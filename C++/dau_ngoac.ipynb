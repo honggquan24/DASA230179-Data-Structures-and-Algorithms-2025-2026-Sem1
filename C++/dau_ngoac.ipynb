{
 "cells": [
  {
   "cell_type": "markdown",
   "id": "b9a92b0d",
   "metadata": {},
   "source": [
    "DAU NGOAC"
   ]
  },
  {
   "cell_type": "code",
   "execution_count": 14,
   "id": "c7b9be49",
   "metadata": {},
   "outputs": [],
   "source": [
    "class Stack:\n",
    "    def __init__(self, capacity=100):\n",
    "        self.data = [None] * capacity  # mảng cố định\n",
    "        self.top = -1                  # vị trí đỉnh\n",
    "        self.capacity = capacity\n",
    "\n",
    "    def is_empty(self):\n",
    "        return self.top == -1\n",
    "\n",
    "    def is_full(self):\n",
    "        return self.top == self.capacity - 1\n",
    "\n",
    "    def push(self, value):\n",
    "        if self.is_full():\n",
    "            raise Exception(\"Stack overflow!\")\n",
    "        self.top += 1\n",
    "        self.data[self.top] = value\n",
    "\n",
    "    def pop(self):\n",
    "        if self.is_empty():\n",
    "            raise Exception(\"Stack underflow!\")\n",
    "        value = self.data[self.top]\n",
    "        self.top -= 1\n",
    "        return value\n",
    "\n",
    "    def peek(self):\n",
    "        if self.is_empty():\n",
    "            raise Exception(\"Stack is empty!\")\n",
    "        return self.data[self.top]\n"
   ]
  },
  {
   "cell_type": "code",
   "execution_count": 15,
   "id": "8decf0db",
   "metadata": {},
   "outputs": [
    {
     "name": "stdout",
     "output_type": "stream",
     "text": [
      "(a+b)*[c-d]: True\n",
      "((a+b): False\n",
      "{[()]}: True\n",
      "{(])}: False\n"
     ]
    }
   ],
   "source": [
    "def is_balanced(expression: str) -> bool:\n",
    "    stack = Stack(len(expression))\n",
    "    pairs = {')': '(', '}': '{', ']': '['}\n",
    "\n",
    "    for char in expression:\n",
    "        if char in \"({[\":\n",
    "            stack.push(char)  # push ngoặc mở\n",
    "        elif char in \")}]\":\n",
    "            if stack.is_empty() or stack.peek() != pairs[char]:\n",
    "                return False\n",
    "            stack.pop()       # pop ngoặc khớp\n",
    "    return stack.is_empty()\n",
    "\n",
    "examples = [\"(a+b)*[c-d]\", \"((a+b)\", \"{[()]}\", \"{(])}\"]\n",
    "for exp in examples:\n",
    "    print(f\"{exp}: {is_balanced(exp)}\")\n",
    "\n"
   ]
  },
  {
   "cell_type": "markdown",
   "id": "30228c3f",
   "metadata": {},
   "source": [
    "CHUYEN DOI HE CO SO"
   ]
  },
  {
   "cell_type": "code",
   "execution_count": 13,
   "id": "ed040a78",
   "metadata": {},
   "outputs": [
    {
     "name": "stdout",
     "output_type": "stream",
     "text": [
      "125 (dec) = 1111101 (bin)\n",
      "125 (dec) = 175 (oct)\n",
      "125 (dec) = 7D (hex)\n"
     ]
    }
   ],
   "source": [
    "def convert_base(number: int, base: int) -> str:\n",
    "    digits = \"0123456789ABCDEF\"\n",
    "    stack = []\n",
    "\n",
    "    if number == 0:\n",
    "        return \"0\"\n",
    "\n",
    "    n = number\n",
    "    while n > 0:\n",
    "        remainder = n % base\n",
    "        stack.append(digits[remainder])  # Push phần dư\n",
    "        n //= base\n",
    "\n",
    "    result = \"\"\n",
    "    while stack:\n",
    "        result += stack.pop()  # Pop ra để đảo ngược thứ tự\n",
    "    return result\n",
    "\n",
    "\n",
    "# 🔍 Minh họa\n",
    "num = 125\n",
    "print(f\"{num} (dec) = {convert_base(num, 2)} (bin)\")\n",
    "print(f\"{num} (dec) = {convert_base(num, 8)} (oct)\")\n",
    "print(f\"{num} (dec) = {convert_base(num, 16)} (hex)\")\n"
   ]
  }
 ],
 "metadata": {
  "kernelspec": {
   "display_name": "Python 3",
   "language": "python",
   "name": "python3"
  },
  "language_info": {
   "codemirror_mode": {
    "name": "ipython",
    "version": 3
   },
   "file_extension": ".py",
   "mimetype": "text/x-python",
   "name": "python",
   "nbconvert_exporter": "python",
   "pygments_lexer": "ipython3",
   "version": "3.12.5"
  }
 },
 "nbformat": 4,
 "nbformat_minor": 5
}
